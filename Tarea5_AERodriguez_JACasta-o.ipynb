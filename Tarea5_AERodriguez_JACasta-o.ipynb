{
 "cells": [
  {
   "cell_type": "markdown",
   "metadata": {},
   "source": [
    "<img style=\"float: left; margin: 30px 15px 15px 15px;\" src=\"https://pngimage.net/wp-content/uploads/2018/06/logo-iteso-png-5.png\" width=\"300\" height=\"500\" /> \n",
    "    \n",
    "    \n",
    "### <font color='navy'> Simulación de procesos financieros. \n",
    "\n",
    "**Nombres:** Ana Esmeralda Rodríguez Rodríguez y José Antonio Castaño Gutiérrez\n",
    "\n",
    "**Fecha:** 7 de Marzo del 2021.\n",
    "\n",
    "**Expediente** : 709288 y .\n",
    "**Profesor:** Oscar David Jaramillo Zuluaga.\n",
    "\n",
    "# Tarea 5: Clase 9\n",
    "**Link al repositorio en Github**: https://github.com/anarodriguezrod/Tarea5_AERodriguez_JACasta-o"
   ]
  },
  {
   "cell_type": "markdown",
   "metadata": {},
   "source": [
    "Para las siguiente dos funciones, genere muestres aleatorias que distribuyan según la función dada usando el método de la transformada inversa y grafique el histograma de 1000 muestras generadas con el método de la transformada inversa y compárela con el función $f(x)$ (recuerde que $f(x)$ es la distribución de probabilidad y $F(x)$ es la distribución de probabilidad acumulada) ver este enlace para más información. Este procedimiento se realiza con el fín de validar que el procedimiento y los resultados son correctos.\n",
    "\n",
    "Generación variable aleatoria continua El tiempo en el cual un movimiento browniano se mantiene sobre su punto máximo en el intervalo [0,1] tiene una distribución $$F(x)=\\frac{2}{\\pi}\\sin^{-1}(\\sqrt x),\\quad 0\\leq x\\leq 1$$ </font>\n",
    "Generación variable aleatoria Discreta La distribución binomial modela el número de éxitos de n ensayos independientes donde hay una probabilidad p de éxito en cada ensayo. Generar una variable aletoria binomial con parámetros $n=10$ y $p=0.7$. Recordar que $$X\\sim binomial(n,p) \\longrightarrow p_i=P(X=i)=\\frac{n!}{i!(n-i)!}p^i(1-p)^{n-i},\\quad i=0,1,\\cdots,n$$ Por propiedades de la operación factorial la anterior $p_i$ se puede escribir como: $$p_{i+1}=\\frac{n-i}{i+1}\\frac{p}{1-p} p_i $$\n",
    "Nota: Por notación recuerde que para el caso continuo $f(x)$ es la distribución de probabilidad (PDF), mientras $F(x)$ corresponde a la distribución de probabilidad acumulada (CDF). Para el caso discreto, $P(X=i)$ corresponde a su distribución de probabilidad (PMF) y $ F_{X}(x)=\\operatorname {P} (X\\leq x)=\\sum _{x_{i}\\leq x}\\operatorname {P} (X=x_{i})=\\sum _{x_{i}\\leq x}p(x_{i})$, corresponde a su distribución de probabilidad acumulada (CDF)."
   ]
  },
  {
   "cell_type": "code",
   "execution_count": null,
   "metadata": {},
   "outputs": [],
   "source": [
    "import matplotlib.pyplot as plt\n",
    "import numpy as np\n",
    "%matplotlib inline\n",
    "from scipy import optimize\n",
    "import random\n",
    "from scipy import optimize\n",
    "import pandas as pd"
   ]
  },
  {
   "cell_type": "markdown",
   "metadata": {},
   "source": [
    "### Solución Ana"
   ]
  },
  {
   "cell_type": "markdown",
   "metadata": {},
   "source": [
    "Generación variable aleatoria continua El tiempo en el cual un movimiento browniano se mantiene sobre su punto máximo en el intervalo [0,1] tiene una distribución $$F(x)=\\frac{2}{\\pi}\\sin^{-1}(\\sqrt x),\\quad 0\\leq x\\leq 1$$ </font>"
   ]
  },
  {
   "cell_type": "markdown",
   "metadata": {},
   "source": [
    "Funcion inversa: $$x =sin^{2}{\\frac{U\\pi}{2}}$$"
   ]
  },
  {
   "cell_type": "markdown",
   "metadata": {},
   "source": [
    "Función de distribucion:\n",
    "    $$\\frac{d}{dx}=\\frac{1}{\\pi\\sqrt{1-x}\\sqrt{x}}$$"
   ]
  },
  {
   "cell_type": "code",
   "execution_count": 13,
   "metadata": {},
   "outputs": [
    {
     "name": "stderr",
     "output_type": "stream",
     "text": [
      "/Users/anarodriguez/opt/anaconda3/lib/python3.7/site-packages/ipykernel_launcher.py:1: RuntimeWarning: divide by zero encountered in true_divide\n",
      "  \"\"\"Entry point for launching an IPython kernel.\n"
     ]
    },
    {
     "data": {
      "image/png": "[encoded data removed]",
      "text/plain": [
       "<Figure size 432x288 with 1 Axes>"
      ]
     },
     "metadata": {
      "needs_background": "light"
     },
     "output_type": "display_data"
    }
   ],
   "source": [
    "funcion= lambda x: 1/((np.sqrt(1-x))*np.sqrt(x)*np.pi)\n",
    "inver= lambda u: (np.sin(u*np.pi/2))**2\n",
    "n= 10000\n",
    "\n",
    "def comparacion(funcion, inver, n):\n",
    "    u=np.random.uniform(0,1,n)\n",
    "    f_rand=inver(u)\n",
    "    x=np.arange(0,1,.01)\n",
    "    funcion_densidad=funcion(x)\n",
    "    plt.hist(f_rand,bins=50)\n",
    "    plt.plot(x,funcion_densidad)\n",
    "    plt.show()\n",
    "    \n",
    "comparacion(funcion,inver,n)"
   ]
  },
  {
   "cell_type": "markdown",
   "metadata": {},
   "source": [
    "Generación variable aleatoria Discreta La distribución binomial modela el número de éxitos de n ensayos independientes donde hay una probabilidad p de éxito en cada ensayo. Generar una variable aletoria binomial con parámetros $n=10$ y $p=0.7$. Recordar que $$X\\sim binomial(n,p) \\longrightarrow p_i=P(X=i)=\\frac{n!}{i!(n-i)!}p^i(1-p)^{n-i},\\quad i=0,1,\\cdots,n$$ Por propiedades de la operación factorial la anterior $p_i$ se puede escribir como: $$p_{i+1}=\\frac{n-i}{i+1}\\frac{p}{1-p} p_i $$"
   ]
  },
  {
   "cell_type": "code",
   "execution_count": 20,
   "metadata": {},
   "outputs": [
    {
     "data": {
      "image/png": "[encoded data removed]",
      "text/plain": [
       "<Figure size 432x216 with 1 Axes>"
      ]
     },
     "metadata": {
      "needs_background": "light"
     },
     "output_type": "display_data"
    }
   ],
   "source": [
    "def distribucion_discreta(u1, probabilidad_acumulada):\n",
    "    vector = np.array(list(map(lambda j:sum(1 for i in probabilidad_acumulada if i<u1[j]),range(N))))\n",
    "    return vector\n",
    "def histograma_discreto(distribucion):\n",
    "    plt.figure(figsize=[6,3])\n",
    "    y,x = np.histogram(distribucion,bins = len(set(distribucion)),density = True) \n",
    "    plt.bar(x[1:],y)\n",
    "    plt.show()\n",
    "    \n",
    "def proba_binomial(n1,p1):\n",
    "    proba1 = np.zeros(n1) \n",
    "    proba1[0] = (1-p1)**n1 \n",
    "    def proba2(i):\n",
    "        nonlocal proba1\n",
    "        c  = p1/(1-p1)\n",
    "        proba1[i+1]=(c*(n1-i)/(i+1))*proba1[i]       \n",
    "    [proba2(i) for i in range(n1-1)]\n",
    "    return np.cumsum(proba1)\n",
    "n1 = 10; p1 = 0.7; N = 10**4\n",
    "\n",
    "proba_acumulada = proba_binomial(n1,p1)\n",
    "u1 = np.random.rand(N)\n",
    "\n",
    "#método de la transformada inversa\n",
    "d_binomial = distribucion_discreta(u1,proba_acumulada)\n",
    "histograma_discreto(d_binomial)"
   ]
  },
  {
   "cell_type": "markdown",
   "metadata": {},
   "source": [
    "Validación\n",
    "$$Px= \\frac{n!}{x!(n-x)!}p^{x}(1-p)^{n-x}$$\n",
    "$$P_{x+1}= \\frac{n!}{(x+1)!(n-x-1)!}P^{x+1}(1-P)^{n-x-1}$$\n",
    "$$\\frac{P_{x+1}}{P_{x}}= \\frac{\\frac{n!}{x!(n-x-1)!}p^{x+1}(1-p)^{n-x-1}}{\\frac{n!}{(x+1)!(n-x-1)!}P^{x+1}(1-P)^{n-x}}\n",
    "$$\n",
    "$$\\frac{P_{x+1}}{P_{x}} = \\frac{n!}{(x+1)!(n-x-1)!}\\frac{p^{x+1}(1-p)^{n-x-1}}{P^{x}(1-P)^{n-x}}\\frac{x!(n-x)!}{n!}$$\n",
    "$$\\frac{P_{x+1}}{P_{x}} = \\frac{n-x}{x+1}\\frac{p}{1-p}$$\n",
    "$$P_{x+1}= \\frac{n-x}{x+1}\\frac{p}{1-p}P_{x}$$\n",
    "$$P_{i+1}= \\frac{n-i}{x+1}\\frac{p}{1-p}P_{i}$$\n"
   ]
  },
  {
   "cell_type": "code",
   "execution_count": null,
   "metadata": {},
   "outputs": [],
   "source": []
  }
 ],
 "metadata": {
  "kernelspec": {
   "display_name": "Python 3",
   "language": "python",
   "name": "python3"
  },
  "language_info": {
   "codemirror_mode": {
    "name": "ipython",
    "version": 3
   },
   "file_extension": ".py",
   "mimetype": "text/x-python",
   "name": "python",
   "nbconvert_exporter": "python",
   "pygments_lexer": "ipython3",
   "version": "3.7.4"
  }
 },
 "nbformat": 4,
 "nbformat_minor": 2
}
